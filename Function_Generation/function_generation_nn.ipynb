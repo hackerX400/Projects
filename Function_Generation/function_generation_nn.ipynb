{
  "nbformat": 4,
  "nbformat_minor": 0,
  "metadata": {
    "colab": {
      "provenance": []
    },
    "kernelspec": {
      "name": "python3",
      "display_name": "Python 3"
    },
    "language_info": {
      "name": "python"
    }
  },
  "cells": [
    {
      "cell_type": "code",
      "execution_count": 1,
      "metadata": {
        "id": "bxPj9XxrhCVY"
      },
      "outputs": [],
      "source": [
        "import tensorflow as tf\n",
        "from tensorflow import keras\n",
        "from tensorflow.keras import layers\n",
        "import pandas as pd"
      ]
    },
    {
      "cell_type": "code",
      "source": [
        "df = pd.read_csv('/content/data_nn.csv')"
      ],
      "metadata": {
        "id": "5H6lQ7NBhfvO"
      },
      "execution_count": 20,
      "outputs": []
    },
    {
      "cell_type": "code",
      "source": [
        "from sklearn.preprocessing import MinMaxScaler\n",
        "scaler = MinMaxScaler()"
      ],
      "metadata": {
        "id": "fsElEQ8eioY8"
      },
      "execution_count": 28,
      "outputs": []
    },
    {
      "cell_type": "code",
      "source": [
        "x = df['x'].values.reshape(-1, 1)\n",
        "y = df['y'].values.reshape(-1, 1)"
      ],
      "metadata": {
        "id": "Wylruo7WnvxD"
      },
      "execution_count": 29,
      "outputs": []
    },
    {
      "cell_type": "code",
      "source": [
        "x = scaler.fit_transform(x)\n",
        "y  = scaler.fit_transform(y)"
      ],
      "metadata": {
        "id": "I7SwYS5hn9mE"
      },
      "execution_count": 30,
      "outputs": []
    },
    {
      "cell_type": "code",
      "source": [
        "from sklearn.model_selection import train_test_split\n",
        "X_train, X_test, y_train, y_test = train_test_split(x,y, test_size=0.33, random_state=42)"
      ],
      "metadata": {
        "id": "p7YLKFdqjWv-"
      },
      "execution_count": 31,
      "outputs": []
    },
    {
      "cell_type": "code",
      "source": [
        "X_train"
      ],
      "metadata": {
        "colab": {
          "base_uri": "https://localhost:8080/"
        },
        "id": "aXyF-2hDi4v_",
        "outputId": "32b1dc3e-0893-4e55-b0cc-6071fbcd7128"
      },
      "execution_count": 32,
      "outputs": [
        {
          "output_type": "execute_result",
          "data": {
            "text/plain": [
              "array([[0.83718372],\n",
              "       [0.50275028],\n",
              "       [0.92349235],\n",
              "       ...,\n",
              "       [0.53905391],\n",
              "       [0.0860086 ],\n",
              "       [0.72707271]])"
            ]
          },
          "metadata": {},
          "execution_count": 32
        }
      ]
    },
    {
      "cell_type": "code",
      "source": [
        "model = keras.Sequential(\n",
        "    [\n",
        "        keras.Input(shape=(X_train.shape[1],)),\n",
        "        layers.Dense(4,activation='tanh'),\n",
        "        layers.Dense(8,activation='tanh'),\n",
        "        layers.Dense(4,activation='tanh'),\n",
        "        layers.Dense(1),\n",
        "\n",
        "    ]\n",
        ")\n",
        "model.compile(\n",
        "    loss = keras.losses.MeanSquaredError(),\n",
        "    optimizer = keras.optimizers.Adam(learning_rate =0.001),\n",
        "    metrics = [keras.metrics.MeanSquaredError(), keras.metrics.MeanAbsoluteError()],\n",
        ")\n",
        "model.fit(X_train,y_train,batch_size=32,epochs=50,validation_split=0.2)\n",
        "model.evaluate(X_test,y_test,batch_size = 32,verbose=2)"
      ],
      "metadata": {
        "colab": {
          "base_uri": "https://localhost:8080/"
        },
        "id": "-C54sAKQiIPR",
        "outputId": "9a80cf08-f146-473a-a804-04930d2ea4b4"
      },
      "execution_count": 33,
      "outputs": [
        {
          "output_type": "stream",
          "name": "stdout",
          "text": [
            "Epoch 1/50\n",
            "168/168 [==============================] - 2s 5ms/step - loss: 0.0118 - mean_squared_error: 0.0118 - mean_absolute_error: 0.0705 - val_loss: 0.0114 - val_mean_squared_error: 0.0114 - val_mean_absolute_error: 0.0700\n",
            "Epoch 2/50\n",
            "168/168 [==============================] - 0s 3ms/step - loss: 0.0115 - mean_squared_error: 0.0115 - mean_absolute_error: 0.0683 - val_loss: 0.0115 - val_mean_squared_error: 0.0115 - val_mean_absolute_error: 0.0666\n",
            "Epoch 3/50\n",
            "168/168 [==============================] - 0s 3ms/step - loss: 0.0115 - mean_squared_error: 0.0115 - mean_absolute_error: 0.0680 - val_loss: 0.0114 - val_mean_squared_error: 0.0114 - val_mean_absolute_error: 0.0718\n",
            "Epoch 4/50\n",
            "168/168 [==============================] - 0s 3ms/step - loss: 0.0116 - mean_squared_error: 0.0116 - mean_absolute_error: 0.0683 - val_loss: 0.0114 - val_mean_squared_error: 0.0114 - val_mean_absolute_error: 0.0684\n",
            "Epoch 5/50\n",
            "168/168 [==============================] - 0s 3ms/step - loss: 0.0114 - mean_squared_error: 0.0114 - mean_absolute_error: 0.0679 - val_loss: 0.0114 - val_mean_squared_error: 0.0114 - val_mean_absolute_error: 0.0668\n",
            "Epoch 6/50\n",
            "168/168 [==============================] - 1s 3ms/step - loss: 0.0115 - mean_squared_error: 0.0115 - mean_absolute_error: 0.0676 - val_loss: 0.0114 - val_mean_squared_error: 0.0114 - val_mean_absolute_error: 0.0702\n",
            "Epoch 7/50\n",
            "168/168 [==============================] - 1s 4ms/step - loss: 0.0115 - mean_squared_error: 0.0115 - mean_absolute_error: 0.0679 - val_loss: 0.0114 - val_mean_squared_error: 0.0114 - val_mean_absolute_error: 0.0671\n",
            "Epoch 8/50\n",
            "168/168 [==============================] - 1s 3ms/step - loss: 0.0114 - mean_squared_error: 0.0114 - mean_absolute_error: 0.0671 - val_loss: 0.0115 - val_mean_squared_error: 0.0115 - val_mean_absolute_error: 0.0687\n",
            "Epoch 9/50\n",
            "168/168 [==============================] - 1s 3ms/step - loss: 0.0115 - mean_squared_error: 0.0115 - mean_absolute_error: 0.0679 - val_loss: 0.0117 - val_mean_squared_error: 0.0117 - val_mean_absolute_error: 0.0748\n",
            "Epoch 10/50\n",
            "168/168 [==============================] - 1s 4ms/step - loss: 0.0114 - mean_squared_error: 0.0114 - mean_absolute_error: 0.0676 - val_loss: 0.0114 - val_mean_squared_error: 0.0114 - val_mean_absolute_error: 0.0690\n",
            "Epoch 11/50\n",
            "168/168 [==============================] - 1s 5ms/step - loss: 0.0114 - mean_squared_error: 0.0114 - mean_absolute_error: 0.0671 - val_loss: 0.0114 - val_mean_squared_error: 0.0114 - val_mean_absolute_error: 0.0700\n",
            "Epoch 12/50\n",
            "168/168 [==============================] - 1s 4ms/step - loss: 0.0115 - mean_squared_error: 0.0115 - mean_absolute_error: 0.0674 - val_loss: 0.0116 - val_mean_squared_error: 0.0116 - val_mean_absolute_error: 0.0738\n",
            "Epoch 13/50\n",
            "168/168 [==============================] - 1s 6ms/step - loss: 0.0116 - mean_squared_error: 0.0116 - mean_absolute_error: 0.0683 - val_loss: 0.0116 - val_mean_squared_error: 0.0116 - val_mean_absolute_error: 0.0738\n",
            "Epoch 14/50\n",
            "168/168 [==============================] - 1s 5ms/step - loss: 0.0114 - mean_squared_error: 0.0114 - mean_absolute_error: 0.0674 - val_loss: 0.0113 - val_mean_squared_error: 0.0113 - val_mean_absolute_error: 0.0678\n",
            "Epoch 15/50\n",
            "168/168 [==============================] - 1s 5ms/step - loss: 0.0115 - mean_squared_error: 0.0115 - mean_absolute_error: 0.0675 - val_loss: 0.0115 - val_mean_squared_error: 0.0115 - val_mean_absolute_error: 0.0733\n",
            "Epoch 16/50\n",
            "168/168 [==============================] - 1s 3ms/step - loss: 0.0114 - mean_squared_error: 0.0114 - mean_absolute_error: 0.0669 - val_loss: 0.0114 - val_mean_squared_error: 0.0114 - val_mean_absolute_error: 0.0702\n",
            "Epoch 17/50\n",
            "168/168 [==============================] - 1s 4ms/step - loss: 0.0114 - mean_squared_error: 0.0114 - mean_absolute_error: 0.0669 - val_loss: 0.0114 - val_mean_squared_error: 0.0114 - val_mean_absolute_error: 0.0681\n",
            "Epoch 18/50\n",
            "168/168 [==============================] - 1s 3ms/step - loss: 0.0114 - mean_squared_error: 0.0114 - mean_absolute_error: 0.0666 - val_loss: 0.0113 - val_mean_squared_error: 0.0113 - val_mean_absolute_error: 0.0681\n",
            "Epoch 19/50\n",
            "168/168 [==============================] - 0s 3ms/step - loss: 0.0114 - mean_squared_error: 0.0114 - mean_absolute_error: 0.0672 - val_loss: 0.0114 - val_mean_squared_error: 0.0114 - val_mean_absolute_error: 0.0680\n",
            "Epoch 20/50\n",
            "168/168 [==============================] - 1s 4ms/step - loss: 0.0114 - mean_squared_error: 0.0114 - mean_absolute_error: 0.0671 - val_loss: 0.0114 - val_mean_squared_error: 0.0114 - val_mean_absolute_error: 0.0717\n",
            "Epoch 21/50\n",
            "168/168 [==============================] - 1s 4ms/step - loss: 0.0114 - mean_squared_error: 0.0114 - mean_absolute_error: 0.0669 - val_loss: 0.0113 - val_mean_squared_error: 0.0113 - val_mean_absolute_error: 0.0672\n",
            "Epoch 22/50\n",
            "168/168 [==============================] - 1s 4ms/step - loss: 0.0114 - mean_squared_error: 0.0114 - mean_absolute_error: 0.0667 - val_loss: 0.0114 - val_mean_squared_error: 0.0114 - val_mean_absolute_error: 0.0668\n",
            "Epoch 23/50\n",
            "168/168 [==============================] - 1s 4ms/step - loss: 0.0115 - mean_squared_error: 0.0115 - mean_absolute_error: 0.0675 - val_loss: 0.0114 - val_mean_squared_error: 0.0114 - val_mean_absolute_error: 0.0674\n",
            "Epoch 24/50\n",
            "168/168 [==============================] - 0s 3ms/step - loss: 0.0114 - mean_squared_error: 0.0114 - mean_absolute_error: 0.0666 - val_loss: 0.0113 - val_mean_squared_error: 0.0113 - val_mean_absolute_error: 0.0680\n",
            "Epoch 25/50\n",
            "168/168 [==============================] - 1s 4ms/step - loss: 0.0115 - mean_squared_error: 0.0115 - mean_absolute_error: 0.0672 - val_loss: 0.0115 - val_mean_squared_error: 0.0115 - val_mean_absolute_error: 0.0732\n",
            "Epoch 26/50\n",
            "168/168 [==============================] - 1s 4ms/step - loss: 0.0114 - mean_squared_error: 0.0114 - mean_absolute_error: 0.0670 - val_loss: 0.0114 - val_mean_squared_error: 0.0114 - val_mean_absolute_error: 0.0699\n",
            "Epoch 27/50\n",
            "168/168 [==============================] - 1s 4ms/step - loss: 0.0115 - mean_squared_error: 0.0115 - mean_absolute_error: 0.0671 - val_loss: 0.0113 - val_mean_squared_error: 0.0113 - val_mean_absolute_error: 0.0675\n",
            "Epoch 28/50\n",
            "168/168 [==============================] - 1s 3ms/step - loss: 0.0114 - mean_squared_error: 0.0114 - mean_absolute_error: 0.0666 - val_loss: 0.0114 - val_mean_squared_error: 0.0114 - val_mean_absolute_error: 0.0668\n",
            "Epoch 29/50\n",
            "168/168 [==============================] - 0s 3ms/step - loss: 0.0114 - mean_squared_error: 0.0114 - mean_absolute_error: 0.0671 - val_loss: 0.0114 - val_mean_squared_error: 0.0114 - val_mean_absolute_error: 0.0710\n",
            "Epoch 30/50\n",
            "168/168 [==============================] - 1s 3ms/step - loss: 0.0114 - mean_squared_error: 0.0114 - mean_absolute_error: 0.0671 - val_loss: 0.0113 - val_mean_squared_error: 0.0113 - val_mean_absolute_error: 0.0681\n",
            "Epoch 31/50\n",
            "168/168 [==============================] - 0s 3ms/step - loss: 0.0114 - mean_squared_error: 0.0114 - mean_absolute_error: 0.0669 - val_loss: 0.0113 - val_mean_squared_error: 0.0113 - val_mean_absolute_error: 0.0681\n",
            "Epoch 32/50\n",
            "168/168 [==============================] - 1s 4ms/step - loss: 0.0115 - mean_squared_error: 0.0115 - mean_absolute_error: 0.0673 - val_loss: 0.0113 - val_mean_squared_error: 0.0113 - val_mean_absolute_error: 0.0678\n",
            "Epoch 33/50\n",
            "168/168 [==============================] - 1s 4ms/step - loss: 0.0114 - mean_squared_error: 0.0114 - mean_absolute_error: 0.0665 - val_loss: 0.0114 - val_mean_squared_error: 0.0114 - val_mean_absolute_error: 0.0695\n",
            "Epoch 34/50\n",
            "168/168 [==============================] - 1s 4ms/step - loss: 0.0114 - mean_squared_error: 0.0114 - mean_absolute_error: 0.0668 - val_loss: 0.0115 - val_mean_squared_error: 0.0115 - val_mean_absolute_error: 0.0723\n",
            "Epoch 35/50\n",
            "168/168 [==============================] - 1s 7ms/step - loss: 0.0115 - mean_squared_error: 0.0115 - mean_absolute_error: 0.0674 - val_loss: 0.0113 - val_mean_squared_error: 0.0113 - val_mean_absolute_error: 0.0675\n",
            "Epoch 36/50\n",
            "168/168 [==============================] - 1s 5ms/step - loss: 0.0114 - mean_squared_error: 0.0114 - mean_absolute_error: 0.0666 - val_loss: 0.0114 - val_mean_squared_error: 0.0114 - val_mean_absolute_error: 0.0668\n",
            "Epoch 37/50\n",
            "168/168 [==============================] - 1s 4ms/step - loss: 0.0114 - mean_squared_error: 0.0114 - mean_absolute_error: 0.0671 - val_loss: 0.0114 - val_mean_squared_error: 0.0114 - val_mean_absolute_error: 0.0666\n",
            "Epoch 38/50\n",
            "168/168 [==============================] - 1s 3ms/step - loss: 0.0114 - mean_squared_error: 0.0114 - mean_absolute_error: 0.0667 - val_loss: 0.0113 - val_mean_squared_error: 0.0113 - val_mean_absolute_error: 0.0692\n",
            "Epoch 39/50\n",
            "168/168 [==============================] - 1s 3ms/step - loss: 0.0114 - mean_squared_error: 0.0114 - mean_absolute_error: 0.0670 - val_loss: 0.0114 - val_mean_squared_error: 0.0114 - val_mean_absolute_error: 0.0699\n",
            "Epoch 40/50\n",
            "168/168 [==============================] - 0s 3ms/step - loss: 0.0114 - mean_squared_error: 0.0114 - mean_absolute_error: 0.0666 - val_loss: 0.0114 - val_mean_squared_error: 0.0114 - val_mean_absolute_error: 0.0667\n",
            "Epoch 41/50\n",
            "168/168 [==============================] - 1s 3ms/step - loss: 0.0114 - mean_squared_error: 0.0114 - mean_absolute_error: 0.0668 - val_loss: 0.0114 - val_mean_squared_error: 0.0114 - val_mean_absolute_error: 0.0693\n",
            "Epoch 42/50\n",
            "168/168 [==============================] - 1s 3ms/step - loss: 0.0114 - mean_squared_error: 0.0114 - mean_absolute_error: 0.0666 - val_loss: 0.0114 - val_mean_squared_error: 0.0114 - val_mean_absolute_error: 0.0669\n",
            "Epoch 43/50\n",
            "168/168 [==============================] - 1s 4ms/step - loss: 0.0114 - mean_squared_error: 0.0114 - mean_absolute_error: 0.0669 - val_loss: 0.0113 - val_mean_squared_error: 0.0113 - val_mean_absolute_error: 0.0684\n",
            "Epoch 44/50\n",
            "168/168 [==============================] - 1s 3ms/step - loss: 0.0115 - mean_squared_error: 0.0115 - mean_absolute_error: 0.0672 - val_loss: 0.0114 - val_mean_squared_error: 0.0114 - val_mean_absolute_error: 0.0678\n",
            "Epoch 45/50\n",
            "168/168 [==============================] - 0s 3ms/step - loss: 0.0114 - mean_squared_error: 0.0114 - mean_absolute_error: 0.0665 - val_loss: 0.0114 - val_mean_squared_error: 0.0114 - val_mean_absolute_error: 0.0706\n",
            "Epoch 46/50\n",
            "168/168 [==============================] - 1s 3ms/step - loss: 0.0115 - mean_squared_error: 0.0115 - mean_absolute_error: 0.0673 - val_loss: 0.0114 - val_mean_squared_error: 0.0114 - val_mean_absolute_error: 0.0699\n",
            "Epoch 47/50\n",
            "168/168 [==============================] - 1s 4ms/step - loss: 0.0114 - mean_squared_error: 0.0114 - mean_absolute_error: 0.0665 - val_loss: 0.0115 - val_mean_squared_error: 0.0115 - val_mean_absolute_error: 0.0717\n",
            "Epoch 48/50\n",
            "168/168 [==============================] - 0s 3ms/step - loss: 0.0114 - mean_squared_error: 0.0114 - mean_absolute_error: 0.0667 - val_loss: 0.0115 - val_mean_squared_error: 0.0115 - val_mean_absolute_error: 0.0724\n",
            "Epoch 49/50\n",
            "168/168 [==============================] - 1s 3ms/step - loss: 0.0114 - mean_squared_error: 0.0114 - mean_absolute_error: 0.0669 - val_loss: 0.0114 - val_mean_squared_error: 0.0114 - val_mean_absolute_error: 0.0686\n",
            "Epoch 50/50\n",
            "168/168 [==============================] - 1s 3ms/step - loss: 0.0114 - mean_squared_error: 0.0114 - mean_absolute_error: 0.0670 - val_loss: 0.0113 - val_mean_squared_error: 0.0113 - val_mean_absolute_error: 0.0690\n",
            "104/104 - 0s - loss: 0.0098 - mean_squared_error: 0.0098 - mean_absolute_error: 0.0636 - 168ms/epoch - 2ms/step\n"
          ]
        },
        {
          "output_type": "execute_result",
          "data": {
            "text/plain": [
              "[0.009755054488778114, 0.009755054488778114, 0.06355055421590805]"
            ]
          },
          "metadata": {},
          "execution_count": 33
        }
      ]
    },
    {
      "cell_type": "code",
      "source": [
        "inputs = keras.Input(shape=(1,))\n",
        "x = layers.BatchNormalization()(inputs)\n",
        "x = layers.Dense(6,activation='tanh')(x)\n",
        "x = layers.Dense(12,activation='tanh')(x)\n",
        "x = layers.Dense(6,activation='tanh')(x)\n",
        "outputs = layers.Dense(1)(x)\n",
        "model = keras.Model(inputs,outputs)\n",
        "model.compile(\n",
        "    loss = keras.losses.MeanSquaredError(),\n",
        "    optimizer = keras.optimizers.Adam(learning_rate =0.001),\n",
        "    metrics = [keras.metrics.MeanSquaredError(), keras.metrics.MeanAbsoluteError()],\n",
        ")\n",
        "model.fit(X_train,y_train,batch_size=32,epochs=50,validation_split=0.2)\n",
        "model.evaluate(X_test,y_test,batch_size = 32,verbose=2)"
      ],
      "metadata": {
        "colab": {
          "base_uri": "https://localhost:8080/"
        },
        "id": "Kp_NI66S1euw",
        "outputId": "2de89cad-76ae-49b8-f3c9-bd92dc92541b"
      },
      "execution_count": 38,
      "outputs": [
        {
          "output_type": "stream",
          "name": "stdout",
          "text": [
            "Epoch 1/50\n",
            "168/168 [==============================] - 3s 6ms/step - loss: 0.0613 - mean_squared_error: 0.0613 - mean_absolute_error: 0.1538 - val_loss: 0.0123 - val_mean_squared_error: 0.0123 - val_mean_absolute_error: 0.0797\n",
            "Epoch 2/50\n",
            "168/168 [==============================] - 1s 4ms/step - loss: 0.0121 - mean_squared_error: 0.0121 - mean_absolute_error: 0.0704 - val_loss: 0.0120 - val_mean_squared_error: 0.0120 - val_mean_absolute_error: 0.0771\n",
            "Epoch 3/50\n",
            "168/168 [==============================] - 1s 4ms/step - loss: 0.0120 - mean_squared_error: 0.0120 - mean_absolute_error: 0.0707 - val_loss: 0.0117 - val_mean_squared_error: 0.0117 - val_mean_absolute_error: 0.0703\n",
            "Epoch 4/50\n",
            "168/168 [==============================] - 1s 4ms/step - loss: 0.0120 - mean_squared_error: 0.0120 - mean_absolute_error: 0.0698 - val_loss: 0.0117 - val_mean_squared_error: 0.0117 - val_mean_absolute_error: 0.0738\n",
            "Epoch 5/50\n",
            "168/168 [==============================] - 1s 3ms/step - loss: 0.0119 - mean_squared_error: 0.0119 - mean_absolute_error: 0.0697 - val_loss: 0.0116 - val_mean_squared_error: 0.0116 - val_mean_absolute_error: 0.0719\n",
            "Epoch 6/50\n",
            "168/168 [==============================] - 1s 3ms/step - loss: 0.0117 - mean_squared_error: 0.0117 - mean_absolute_error: 0.0688 - val_loss: 0.0117 - val_mean_squared_error: 0.0117 - val_mean_absolute_error: 0.0669\n",
            "Epoch 7/50\n",
            "168/168 [==============================] - 0s 3ms/step - loss: 0.0118 - mean_squared_error: 0.0118 - mean_absolute_error: 0.0685 - val_loss: 0.0115 - val_mean_squared_error: 0.0115 - val_mean_absolute_error: 0.0697\n",
            "Epoch 8/50\n",
            "168/168 [==============================] - 1s 4ms/step - loss: 0.0118 - mean_squared_error: 0.0118 - mean_absolute_error: 0.0688 - val_loss: 0.0115 - val_mean_squared_error: 0.0115 - val_mean_absolute_error: 0.0729\n",
            "Epoch 9/50\n",
            "168/168 [==============================] - 1s 4ms/step - loss: 0.0118 - mean_squared_error: 0.0118 - mean_absolute_error: 0.0699 - val_loss: 0.0114 - val_mean_squared_error: 0.0114 - val_mean_absolute_error: 0.0679\n",
            "Epoch 10/50\n",
            "168/168 [==============================] - 1s 3ms/step - loss: 0.0116 - mean_squared_error: 0.0116 - mean_absolute_error: 0.0684 - val_loss: 0.0117 - val_mean_squared_error: 0.0117 - val_mean_absolute_error: 0.0726\n",
            "Epoch 11/50\n",
            "168/168 [==============================] - 1s 3ms/step - loss: 0.0118 - mean_squared_error: 0.0118 - mean_absolute_error: 0.0691 - val_loss: 0.0115 - val_mean_squared_error: 0.0115 - val_mean_absolute_error: 0.0705\n",
            "Epoch 12/50\n",
            "168/168 [==============================] - 1s 4ms/step - loss: 0.0118 - mean_squared_error: 0.0118 - mean_absolute_error: 0.0691 - val_loss: 0.0114 - val_mean_squared_error: 0.0114 - val_mean_absolute_error: 0.0665\n",
            "Epoch 13/50\n",
            "168/168 [==============================] - 1s 3ms/step - loss: 0.0117 - mean_squared_error: 0.0117 - mean_absolute_error: 0.0683 - val_loss: 0.0114 - val_mean_squared_error: 0.0114 - val_mean_absolute_error: 0.0721\n",
            "Epoch 14/50\n",
            "168/168 [==============================] - 1s 5ms/step - loss: 0.0117 - mean_squared_error: 0.0117 - mean_absolute_error: 0.0693 - val_loss: 0.0113 - val_mean_squared_error: 0.0113 - val_mean_absolute_error: 0.0684\n",
            "Epoch 15/50\n",
            "168/168 [==============================] - 1s 4ms/step - loss: 0.0119 - mean_squared_error: 0.0119 - mean_absolute_error: 0.0700 - val_loss: 0.0118 - val_mean_squared_error: 0.0118 - val_mean_absolute_error: 0.0644\n",
            "Epoch 16/50\n",
            "168/168 [==============================] - 1s 4ms/step - loss: 0.0118 - mean_squared_error: 0.0118 - mean_absolute_error: 0.0687 - val_loss: 0.0115 - val_mean_squared_error: 0.0115 - val_mean_absolute_error: 0.0711\n",
            "Epoch 17/50\n",
            "168/168 [==============================] - 1s 5ms/step - loss: 0.0117 - mean_squared_error: 0.0117 - mean_absolute_error: 0.0687 - val_loss: 0.0114 - val_mean_squared_error: 0.0114 - val_mean_absolute_error: 0.0698\n",
            "Epoch 18/50\n",
            "168/168 [==============================] - 1s 5ms/step - loss: 0.0117 - mean_squared_error: 0.0117 - mean_absolute_error: 0.0686 - val_loss: 0.0114 - val_mean_squared_error: 0.0114 - val_mean_absolute_error: 0.0683\n",
            "Epoch 19/50\n",
            "168/168 [==============================] - 1s 5ms/step - loss: 0.0118 - mean_squared_error: 0.0118 - mean_absolute_error: 0.0692 - val_loss: 0.0117 - val_mean_squared_error: 0.0117 - val_mean_absolute_error: 0.0656\n",
            "Epoch 20/50\n",
            "168/168 [==============================] - 1s 5ms/step - loss: 0.0117 - mean_squared_error: 0.0117 - mean_absolute_error: 0.0685 - val_loss: 0.0114 - val_mean_squared_error: 0.0114 - val_mean_absolute_error: 0.0669\n",
            "Epoch 21/50\n",
            "168/168 [==============================] - 1s 3ms/step - loss: 0.0117 - mean_squared_error: 0.0117 - mean_absolute_error: 0.0687 - val_loss: 0.0119 - val_mean_squared_error: 0.0119 - val_mean_absolute_error: 0.0752\n",
            "Epoch 22/50\n",
            "168/168 [==============================] - 1s 5ms/step - loss: 0.0118 - mean_squared_error: 0.0118 - mean_absolute_error: 0.0693 - val_loss: 0.0114 - val_mean_squared_error: 0.0114 - val_mean_absolute_error: 0.0685\n",
            "Epoch 23/50\n",
            "168/168 [==============================] - 1s 3ms/step - loss: 0.0116 - mean_squared_error: 0.0116 - mean_absolute_error: 0.0682 - val_loss: 0.0115 - val_mean_squared_error: 0.0115 - val_mean_absolute_error: 0.0712\n",
            "Epoch 24/50\n",
            "168/168 [==============================] - 1s 4ms/step - loss: 0.0118 - mean_squared_error: 0.0118 - mean_absolute_error: 0.0689 - val_loss: 0.0114 - val_mean_squared_error: 0.0114 - val_mean_absolute_error: 0.0686\n",
            "Epoch 25/50\n",
            "168/168 [==============================] - 1s 3ms/step - loss: 0.0117 - mean_squared_error: 0.0117 - mean_absolute_error: 0.0690 - val_loss: 0.0114 - val_mean_squared_error: 0.0114 - val_mean_absolute_error: 0.0699\n",
            "Epoch 26/50\n",
            "168/168 [==============================] - 1s 3ms/step - loss: 0.0117 - mean_squared_error: 0.0117 - mean_absolute_error: 0.0688 - val_loss: 0.0114 - val_mean_squared_error: 0.0114 - val_mean_absolute_error: 0.0663\n",
            "Epoch 27/50\n",
            "168/168 [==============================] - 1s 5ms/step - loss: 0.0116 - mean_squared_error: 0.0116 - mean_absolute_error: 0.0683 - val_loss: 0.0114 - val_mean_squared_error: 0.0114 - val_mean_absolute_error: 0.0680\n",
            "Epoch 28/50\n",
            "168/168 [==============================] - 1s 5ms/step - loss: 0.0116 - mean_squared_error: 0.0116 - mean_absolute_error: 0.0685 - val_loss: 0.0114 - val_mean_squared_error: 0.0114 - val_mean_absolute_error: 0.0668\n",
            "Epoch 29/50\n",
            "168/168 [==============================] - 1s 4ms/step - loss: 0.0118 - mean_squared_error: 0.0118 - mean_absolute_error: 0.0694 - val_loss: 0.0115 - val_mean_squared_error: 0.0115 - val_mean_absolute_error: 0.0662\n",
            "Epoch 30/50\n",
            "168/168 [==============================] - 1s 4ms/step - loss: 0.0116 - mean_squared_error: 0.0116 - mean_absolute_error: 0.0683 - val_loss: 0.0115 - val_mean_squared_error: 0.0115 - val_mean_absolute_error: 0.0695\n",
            "Epoch 31/50\n",
            "168/168 [==============================] - 1s 4ms/step - loss: 0.0117 - mean_squared_error: 0.0117 - mean_absolute_error: 0.0691 - val_loss: 0.0115 - val_mean_squared_error: 0.0115 - val_mean_absolute_error: 0.0702\n",
            "Epoch 32/50\n",
            "168/168 [==============================] - 1s 3ms/step - loss: 0.0118 - mean_squared_error: 0.0118 - mean_absolute_error: 0.0688 - val_loss: 0.0115 - val_mean_squared_error: 0.0115 - val_mean_absolute_error: 0.0733\n",
            "Epoch 33/50\n",
            "168/168 [==============================] - 1s 4ms/step - loss: 0.0118 - mean_squared_error: 0.0118 - mean_absolute_error: 0.0684 - val_loss: 0.0114 - val_mean_squared_error: 0.0114 - val_mean_absolute_error: 0.0711\n",
            "Epoch 34/50\n",
            "168/168 [==============================] - 1s 4ms/step - loss: 0.0116 - mean_squared_error: 0.0116 - mean_absolute_error: 0.0683 - val_loss: 0.0113 - val_mean_squared_error: 0.0113 - val_mean_absolute_error: 0.0675\n",
            "Epoch 35/50\n",
            "168/168 [==============================] - 1s 4ms/step - loss: 0.0119 - mean_squared_error: 0.0119 - mean_absolute_error: 0.0691 - val_loss: 0.0114 - val_mean_squared_error: 0.0114 - val_mean_absolute_error: 0.0703\n",
            "Epoch 36/50\n",
            "168/168 [==============================] - 1s 6ms/step - loss: 0.0117 - mean_squared_error: 0.0117 - mean_absolute_error: 0.0687 - val_loss: 0.0116 - val_mean_squared_error: 0.0116 - val_mean_absolute_error: 0.0675\n",
            "Epoch 37/50\n",
            "168/168 [==============================] - 1s 6ms/step - loss: 0.0117 - mean_squared_error: 0.0117 - mean_absolute_error: 0.0686 - val_loss: 0.0114 - val_mean_squared_error: 0.0114 - val_mean_absolute_error: 0.0680\n",
            "Epoch 38/50\n",
            "168/168 [==============================] - 1s 6ms/step - loss: 0.0117 - mean_squared_error: 0.0117 - mean_absolute_error: 0.0687 - val_loss: 0.0115 - val_mean_squared_error: 0.0115 - val_mean_absolute_error: 0.0654\n",
            "Epoch 39/50\n",
            "168/168 [==============================] - 1s 7ms/step - loss: 0.0116 - mean_squared_error: 0.0116 - mean_absolute_error: 0.0686 - val_loss: 0.0114 - val_mean_squared_error: 0.0114 - val_mean_absolute_error: 0.0673\n",
            "Epoch 40/50\n",
            "168/168 [==============================] - 1s 3ms/step - loss: 0.0117 - mean_squared_error: 0.0117 - mean_absolute_error: 0.0683 - val_loss: 0.0115 - val_mean_squared_error: 0.0115 - val_mean_absolute_error: 0.0709\n",
            "Epoch 41/50\n",
            "168/168 [==============================] - 1s 4ms/step - loss: 0.0115 - mean_squared_error: 0.0115 - mean_absolute_error: 0.0682 - val_loss: 0.0115 - val_mean_squared_error: 0.0115 - val_mean_absolute_error: 0.0708\n",
            "Epoch 42/50\n",
            "168/168 [==============================] - 1s 4ms/step - loss: 0.0115 - mean_squared_error: 0.0115 - mean_absolute_error: 0.0685 - val_loss: 0.0115 - val_mean_squared_error: 0.0115 - val_mean_absolute_error: 0.0737\n",
            "Epoch 43/50\n",
            "168/168 [==============================] - 1s 4ms/step - loss: 0.0117 - mean_squared_error: 0.0117 - mean_absolute_error: 0.0688 - val_loss: 0.0116 - val_mean_squared_error: 0.0116 - val_mean_absolute_error: 0.0647\n",
            "Epoch 44/50\n",
            "168/168 [==============================] - 1s 5ms/step - loss: 0.0117 - mean_squared_error: 0.0117 - mean_absolute_error: 0.0682 - val_loss: 0.0116 - val_mean_squared_error: 0.0116 - val_mean_absolute_error: 0.0716\n",
            "Epoch 45/50\n",
            "168/168 [==============================] - 1s 5ms/step - loss: 0.0115 - mean_squared_error: 0.0115 - mean_absolute_error: 0.0677 - val_loss: 0.0115 - val_mean_squared_error: 0.0115 - val_mean_absolute_error: 0.0725\n",
            "Epoch 46/50\n",
            "168/168 [==============================] - 1s 4ms/step - loss: 0.0117 - mean_squared_error: 0.0117 - mean_absolute_error: 0.0685 - val_loss: 0.0116 - val_mean_squared_error: 0.0116 - val_mean_absolute_error: 0.0667\n",
            "Epoch 47/50\n",
            "168/168 [==============================] - 1s 4ms/step - loss: 0.0116 - mean_squared_error: 0.0116 - mean_absolute_error: 0.0681 - val_loss: 0.0114 - val_mean_squared_error: 0.0114 - val_mean_absolute_error: 0.0689\n",
            "Epoch 48/50\n",
            "168/168 [==============================] - 1s 3ms/step - loss: 0.0116 - mean_squared_error: 0.0116 - mean_absolute_error: 0.0686 - val_loss: 0.0114 - val_mean_squared_error: 0.0114 - val_mean_absolute_error: 0.0688\n",
            "Epoch 49/50\n",
            "168/168 [==============================] - 1s 4ms/step - loss: 0.0116 - mean_squared_error: 0.0116 - mean_absolute_error: 0.0680 - val_loss: 0.0114 - val_mean_squared_error: 0.0114 - val_mean_absolute_error: 0.0666\n",
            "Epoch 50/50\n",
            "168/168 [==============================] - 1s 4ms/step - loss: 0.0117 - mean_squared_error: 0.0117 - mean_absolute_error: 0.0682 - val_loss: 0.0114 - val_mean_squared_error: 0.0114 - val_mean_absolute_error: 0.0704\n",
            "104/104 - 0s - loss: 0.0098 - mean_squared_error: 0.0098 - mean_absolute_error: 0.0653 - 212ms/epoch - 2ms/step\n"
          ]
        },
        {
          "output_type": "execute_result",
          "data": {
            "text/plain": [
              "[0.009754219092428684, 0.009754219092428684, 0.06530505418777466]"
            ]
          },
          "metadata": {},
          "execution_count": 38
        }
      ]
    },
    {
      "cell_type": "code",
      "source": [
        "# [0.5893184542655945, 0.5893184542655945, 0.4860795736312866] layer = 4,relu\n",
        "# [0.5946866273880005, 0.5946866273880005, 0.5014107823371887] layer = 4,tanh\n",
        "# [0.009755054488778114, 0.009755054488778114, 0.06355055421590805] MinMaxScaler ,layer = 4,tanh\n",
        "# [0.00983396451920271, 0.00983396451920271, 0.0645415261387825] functionl api,MinMaxScaler,layers = 4,tanh best model\n",
        "# [0.010220222175121307, 0.010220222175121307, 0.07031970471143723] functional api,minmaxscaler,layers = 4,relu\n",
        "# [0.009776915423572063, 0.009776915423572063, 0.0636739730834961] functional api minmaxscaler,layers =4 ,sigmoid\n",
        "# [0.009679840877652168, 0.009679840877652168, 0.06088801473379135] layers = 6"
      ],
      "metadata": {
        "id": "iYJwBaDwk_AB"
      },
      "execution_count": 17,
      "outputs": []
    },
    {
      "cell_type": "code",
      "source": [],
      "metadata": {
        "id": "xSwTjh3R1s38"
      },
      "execution_count": null,
      "outputs": []
    }
  ]
}