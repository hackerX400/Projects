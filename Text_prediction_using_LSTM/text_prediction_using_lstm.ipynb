{
  "nbformat": 4,
  "nbformat_minor": 0,
  "metadata": {
    "colab": {
      "provenance": [],
      "gpuType": "T4"
    },
    "kernelspec": {
      "name": "python3",
      "display_name": "Python 3"
    },
    "language_info": {
      "name": "python"
    },
    "accelerator": "GPU"
  },
  "cells": [
    {
      "cell_type": "code",
      "execution_count": 1,
      "metadata": {
        "id": "VgJXSMeKm7y5"
      },
      "outputs": [],
      "source": [
        "from keras.models import Sequential\n",
        "from keras.layers import LSTM,Dense,Dropout\n",
        "from keras.optimizers import RMSprop\n",
        "import numpy as np\n",
        "import matplotlib.pyplot as plt\n",
        "import sys"
      ]
    },
    {
      "cell_type": "code",
      "source": [
        "filename = \"/content/pg236.txt\"\n",
        "raw_text = open(filename,'r',encoding='utf-8').read()\n",
        "print(raw_text[:1000])"
      ],
      "metadata": {
        "colab": {
          "base_uri": "https://localhost:8080/"
        },
        "id": "mD2xjfP-nUTL",
        "outputId": "935d7a40-3f97-42fb-96f5-10abca0f8206"
      },
      "execution_count": 2,
      "outputs": [
        {
          "output_type": "stream",
          "name": "stdout",
          "text": [
            "The Project Gutenberg eBook of The Jungle Book\n",
            "This ebook is for the use of anyone anywhere in the United States and most other parts of the world at no cost and with almost no restrictions whatsoever. You may copy it, give it away or re-use it under the terms of the Project Gutenberg License included with this ebook or online at www.gutenberg.org. If you are not located in the United States, you will have to check the laws of the country where you are located before using this eBook.\n",
            "Song in the JungleIt was seven o’clock of a very warm evening in the Seeonee hills when Father Wolf woke up from his day’s rest, scratched himself, yawned, and spread out his paws one after the other to get rid of the sleepy feeling in their tips. Mother Wolf lay with her big gray nose dropped across her four tumbling, squealing cubs, and the moon shone into the mouth of the cave where they all lived. “Augrh!” said Father Wolf. “It is time to hunt again.” He was going to spring down hill when a little sha\n"
          ]
        }
      ]
    },
    {
      "cell_type": "code",
      "source": [
        "raw_text = ' '.join(c for c in raw_text if not c.isdigit())\n",
        "chars = sorted(list(set(raw_text)))\n",
        "print(chars)"
      ],
      "metadata": {
        "colab": {
          "base_uri": "https://localhost:8080/"
        },
        "id": "UaTrRiF0pixS",
        "outputId": "f618a95f-2051-4f89-b61b-9038190d21c2"
      },
      "execution_count": 3,
      "outputs": [
        {
          "output_type": "stream",
          "name": "stdout",
          "text": [
            "['\\n', ' ', '!', '$', '%', '(', ')', '*', ',', '-', '.', '/', ':', ';', '?', 'A', 'B', 'C', 'D', 'E', 'F', 'G', 'H', 'I', 'J', 'K', 'L', 'M', 'N', 'O', 'P', 'Q', 'R', 'S', 'T', 'U', 'V', 'W', 'X', 'Y', 'Z', '[', ']', '`', 'a', 'b', 'c', 'd', 'e', 'f', 'g', 'h', 'i', 'j', 'k', 'l', 'm', 'n', 'o', 'p', 'q', 'r', 's', 't', 'u', 'v', 'w', 'x', 'y', 'z', '{', '}', 'â', '—', '‘', '’', '“', '”', '•', '™']\n"
          ]
        }
      ]
    },
    {
      "cell_type": "code",
      "source": [
        "char_to_int = dict((c,i) for i,c in enumerate(chars))\n",
        "int_to_char = dict((i,c) for i,c in enumerate(chars))"
      ],
      "metadata": {
        "id": "-KV6N9bWp20t"
      },
      "execution_count": 4,
      "outputs": []
    },
    {
      "cell_type": "code",
      "source": [
        "n_chars = len(raw_text)\n",
        "v_vocab = len(chars)\n",
        "print(\"Total Characters: \",n_chars)\n",
        "print(\"Total Vocab: \",v_vocab)"
      ],
      "metadata": {
        "colab": {
          "base_uri": "https://localhost:8080/"
        },
        "id": "ux9voVrhp--v",
        "outputId": "16c79088-49a5-45fc-ced1-0831f4730821"
      },
      "execution_count": 5,
      "outputs": [
        {
          "output_type": "stream",
          "name": "stdout",
          "text": [
            "Total Characters:  583269\n",
            "Total Vocab:  80\n"
          ]
        }
      ]
    },
    {
      "cell_type": "code",
      "source": [
        "seq_length = 80\n",
        "step = 8\n",
        "sentences = []\n",
        "next_char = []\n",
        "for i in range(0, len(raw_text) - seq_length, step):\n",
        "    sentences.append(raw_text[i: i + seq_length])\n",
        "    next_char.append(raw_text[i + seq_length])\n",
        "n_pattens = len(sentences)\n",
        "print(\"Total Patterns: \", n_pattens)"
      ],
      "metadata": {
        "colab": {
          "base_uri": "https://localhost:8080/"
        },
        "id": "sZCHYoofqrJA",
        "outputId": "b6d69a29-58c8-4106-a891-c3b1c1d62f14"
      },
      "execution_count": 6,
      "outputs": [
        {
          "output_type": "stream",
          "name": "stdout",
          "text": [
            "Total Patterns:  72899\n"
          ]
        }
      ]
    },
    {
      "cell_type": "code",
      "source": [
        "sentences[0:5]"
      ],
      "metadata": {
        "colab": {
          "base_uri": "https://localhost:8080/"
        },
        "id": "TJkrEc3Qr67L",
        "outputId": "80b50c4d-5196-43cb-c58e-98e92a0f4149"
      },
      "execution_count": 7,
      "outputs": [
        {
          "output_type": "execute_result",
          "data": {
            "text/plain": [
              "['T h e   P r o j e c t   G u t e n b e r g   e B o o k   o f   T h e   J u n g l ',\n",
              " 'P r o j e c t   G u t e n b e r g   e B o o k   o f   T h e   J u n g l e   B o ',\n",
              " 'e c t   G u t e n b e r g   e B o o k   o f   T h e   J u n g l e   B o o k \\n T ',\n",
              " 'G u t e n b e r g   e B o o k   o f   T h e   J u n g l e   B o o k \\n T h i s   ',\n",
              " 'n b e r g   e B o o k   o f   T h e   J u n g l e   B o o k \\n T h i s   e b o o ']"
            ]
          },
          "metadata": {},
          "execution_count": 7
        }
      ]
    },
    {
      "cell_type": "code",
      "source": [
        "x = np.zeros((len(sentences),seq_length,v_vocab),dtype=bool)\n",
        "y = np.zeros((len(sentences),v_vocab),dtype=bool)\n",
        "for i,sentence in enumerate(sentences):\n",
        "    for t,char in enumerate(sentence):\n",
        "        x[i,t,char_to_int[char]] = 1\n",
        "    y[i,char_to_int[next_char[i]]] = 1\n",
        "# summarize the loaded data\n",
        "print(x.shape)\n",
        "print(y.shape)\n",
        "print(y[0:5])"
      ],
      "metadata": {
        "colab": {
          "base_uri": "https://localhost:8080/"
        },
        "id": "X87mqBahsxo1",
        "outputId": "eb48420c-18cd-4f6a-843b-c0bd87ee7de6"
      },
      "execution_count": 8,
      "outputs": [
        {
          "output_type": "stream",
          "name": "stdout",
          "text": [
            "(72899, 80, 80)\n",
            "(72899, 80)\n",
            "[[False False False False False False False False False False False False\n",
            "  False False False False False False False False False False False False\n",
            "  False False False False False False False False False False False False\n",
            "  False False False False False False False False False False False False\n",
            "   True False False False False False False False False False False False\n",
            "  False False False False False False False False False False False False\n",
            "  False False False False False False False False]\n",
            " [False False False False False False False False False False False False\n",
            "  False False False False False False False False False False False False\n",
            "  False False False False False False False False False False False False\n",
            "  False False False False False False False False False False False False\n",
            "  False False False False False False False False False False  True False\n",
            "  False False False False False False False False False False False False\n",
            "  False False False False False False False False]\n",
            " [False False False False False False False False False False False False\n",
            "  False False False False False False False False False False False False\n",
            "  False False False False False False False False False False False False\n",
            "  False False False False False False False False False False False False\n",
            "  False False False  True False False False False False False False False\n",
            "  False False False False False False False False False False False False\n",
            "  False False False False False False False False]\n",
            " [False False False False False False False False False False False False\n",
            "  False False False False False False False False False False False False\n",
            "  False False False False False False False False False False False False\n",
            "  False False False False False False False False False False False False\n",
            "   True False False False False False False False False False False False\n",
            "  False False False False False False False False False False False False\n",
            "  False False False False False False False False]\n",
            " [False False False False False False False False False False False False\n",
            "  False False False False False False False False False False False False\n",
            "  False False False False False False False False False False False False\n",
            "  False False False False False False False False False False False False\n",
            "  False False False False False False  True False False False False False\n",
            "  False False False False False False False False False False False False\n",
            "  False False False False False False False False]]\n"
          ]
        }
      ]
    },
    {
      "cell_type": "code",
      "source": [
        "model = Sequential()\n",
        "model.add(LSTM(128,input_shape=(seq_length,v_vocab)))\n",
        "model.add(Dense(v_vocab,activation='softmax'))\n",
        "optimizer = RMSprop(learning_rate=0.01)\n",
        "model.compile(loss='categorical_crossentropy',optimizer=optimizer)"
      ],
      "metadata": {
        "id": "h0j4UClxtWM5"
      },
      "execution_count": 9,
      "outputs": []
    },
    {
      "cell_type": "code",
      "source": [
        "model.summary()"
      ],
      "metadata": {
        "colab": {
          "base_uri": "https://localhost:8080/"
        },
        "id": "EThmoKlKuO9q",
        "outputId": "6fe1d7d6-ed88-42de-90fc-d2e8b1032131"
      },
      "execution_count": 10,
      "outputs": [
        {
          "output_type": "stream",
          "name": "stdout",
          "text": [
            "Model: \"sequential\"\n",
            "_________________________________________________________________\n",
            " Layer (type)                Output Shape              Param #   \n",
            "=================================================================\n",
            " lstm (LSTM)                 (None, 128)               107008    \n",
            "                                                                 \n",
            " dense (Dense)               (None, 80)                10320     \n",
            "                                                                 \n",
            "=================================================================\n",
            "Total params: 117328 (458.31 KB)\n",
            "Trainable params: 117328 (458.31 KB)\n",
            "Non-trainable params: 0 (0.00 Byte)\n",
            "_________________________________________________________________\n"
          ]
        }
      ]
    },
    {
      "cell_type": "code",
      "source": [
        "from keras.callbacks import ModelCheckpoint\n",
        "filepath = \"weights-improvement-{epoch:02d}-{loss:.4f}.hdf5\"\n",
        "checkpoint = ModelCheckpoint(filepath,monitor='loss',verbose=1,save_best_only=True,mode='min')\n",
        "callbacks_list = [checkpoint]"
      ],
      "metadata": {
        "id": "1NieIcqnv3g4"
      },
      "execution_count": 11,
      "outputs": []
    },
    {
      "cell_type": "code",
      "source": [
        "history = model.fit(x,y,batch_size=128,epochs=50,callbacks = callbacks_list)"
      ],
      "metadata": {
        "colab": {
          "base_uri": "https://localhost:8080/"
        },
        "id": "HHKAdeMyuaLh",
        "outputId": "5c0e3c83-fc8d-4e50-fa36-b98668ef6cbd"
      },
      "execution_count": 13,
      "outputs": [
        {
          "output_type": "stream",
          "name": "stdout",
          "text": [
            "Epoch 1/50\n",
            "567/570 [============================>.] - ETA: 0s - loss: 1.3574\n",
            "Epoch 1: loss improved from 1.37823 to 1.35769, saving model to weights-improvement-01-1.3577.hdf5\n",
            "570/570 [==============================] - 4s 7ms/step - loss: 1.3577\n",
            "Epoch 2/50\n",
            "567/570 [============================>.] - ETA: 0s - loss: 1.3442\n",
            "Epoch 2: loss improved from 1.35769 to 1.34400, saving model to weights-improvement-02-1.3440.hdf5\n",
            "570/570 [==============================] - 4s 7ms/step - loss: 1.3440\n",
            "Epoch 3/50\n",
            "568/570 [============================>.] - ETA: 0s - loss: 1.3272\n",
            "Epoch 3: loss improved from 1.34400 to 1.32763, saving model to weights-improvement-03-1.3276.hdf5\n",
            "570/570 [==============================] - 4s 7ms/step - loss: 1.3276\n",
            "Epoch 4/50\n",
            "568/570 [============================>.] - ETA: 0s - loss: 1.3159\n",
            "Epoch 4: loss improved from 1.32763 to 1.31598, saving model to weights-improvement-04-1.3160.hdf5\n",
            "570/570 [==============================] - 4s 7ms/step - loss: 1.3160\n",
            "Epoch 5/50\n",
            "570/570 [==============================] - ETA: 0s - loss: 1.3054\n",
            "Epoch 5: loss improved from 1.31598 to 1.30542, saving model to weights-improvement-05-1.3054.hdf5\n",
            "570/570 [==============================] - 4s 7ms/step - loss: 1.3054\n",
            "Epoch 6/50\n",
            "568/570 [============================>.] - ETA: 0s - loss: 1.2918\n",
            "Epoch 6: loss improved from 1.30542 to 1.29209, saving model to weights-improvement-06-1.2921.hdf5\n",
            "570/570 [==============================] - 4s 7ms/step - loss: 1.2921\n",
            "Epoch 7/50\n",
            "564/570 [============================>.] - ETA: 0s - loss: 1.2841\n",
            "Epoch 7: loss improved from 1.29209 to 1.28433, saving model to weights-improvement-07-1.2843.hdf5\n",
            "570/570 [==============================] - 4s 7ms/step - loss: 1.2843\n",
            "Epoch 8/50\n",
            "570/570 [==============================] - ETA: 0s - loss: 1.2741\n",
            "Epoch 8: loss improved from 1.28433 to 1.27415, saving model to weights-improvement-08-1.2741.hdf5\n",
            "570/570 [==============================] - 4s 8ms/step - loss: 1.2741\n",
            "Epoch 9/50\n",
            "568/570 [============================>.] - ETA: 0s - loss: 1.2670\n",
            "Epoch 9: loss improved from 1.27415 to 1.26704, saving model to weights-improvement-09-1.2670.hdf5\n",
            "570/570 [==============================] - 4s 7ms/step - loss: 1.2670\n",
            "Epoch 10/50\n",
            "565/570 [============================>.] - ETA: 0s - loss: 1.2592\n",
            "Epoch 10: loss improved from 1.26704 to 1.25932, saving model to weights-improvement-10-1.2593.hdf5\n",
            "570/570 [==============================] - 4s 7ms/step - loss: 1.2593\n",
            "Epoch 11/50\n",
            "568/570 [============================>.] - ETA: 0s - loss: 1.2514\n",
            "Epoch 11: loss improved from 1.25932 to 1.25144, saving model to weights-improvement-11-1.2514.hdf5\n",
            "570/570 [==============================] - 4s 8ms/step - loss: 1.2514\n",
            "Epoch 12/50\n",
            "568/570 [============================>.] - ETA: 0s - loss: 1.2448\n",
            "Epoch 12: loss improved from 1.25144 to 1.24531, saving model to weights-improvement-12-1.2453.hdf5\n",
            "570/570 [==============================] - 4s 7ms/step - loss: 1.2453\n",
            "Epoch 13/50\n",
            "566/570 [============================>.] - ETA: 0s - loss: 1.2364\n",
            "Epoch 13: loss improved from 1.24531 to 1.23661, saving model to weights-improvement-13-1.2366.hdf5\n",
            "570/570 [==============================] - 4s 7ms/step - loss: 1.2366\n",
            "Epoch 14/50\n",
            "567/570 [============================>.] - ETA: 0s - loss: 1.2288\n",
            "Epoch 14: loss improved from 1.23661 to 1.22944, saving model to weights-improvement-14-1.2294.hdf5\n",
            "570/570 [==============================] - 4s 7ms/step - loss: 1.2294\n",
            "Epoch 15/50\n",
            "567/570 [============================>.] - ETA: 0s - loss: 1.2225\n",
            "Epoch 15: loss improved from 1.22944 to 1.22330, saving model to weights-improvement-15-1.2233.hdf5\n",
            "570/570 [==============================] - 4s 7ms/step - loss: 1.2233\n",
            "Epoch 16/50\n",
            "564/570 [============================>.] - ETA: 0s - loss: 1.2197\n",
            "Epoch 16: loss improved from 1.22330 to 1.22041, saving model to weights-improvement-16-1.2204.hdf5\n",
            "570/570 [==============================] - 4s 7ms/step - loss: 1.2204\n",
            "Epoch 17/50\n",
            "568/570 [============================>.] - ETA: 0s - loss: 1.2076\n",
            "Epoch 17: loss improved from 1.22041 to 1.20795, saving model to weights-improvement-17-1.2080.hdf5\n",
            "570/570 [==============================] - 4s 8ms/step - loss: 1.2080\n",
            "Epoch 18/50\n",
            "564/570 [============================>.] - ETA: 0s - loss: 1.2025\n",
            "Epoch 18: loss improved from 1.20795 to 1.20298, saving model to weights-improvement-18-1.2030.hdf5\n",
            "570/570 [==============================] - 4s 7ms/step - loss: 1.2030\n",
            "Epoch 19/50\n",
            "564/570 [============================>.] - ETA: 0s - loss: 1.2030\n",
            "Epoch 19: loss did not improve from 1.20298\n",
            "570/570 [==============================] - 4s 7ms/step - loss: 1.2039\n",
            "Epoch 20/50\n",
            "570/570 [==============================] - ETA: 0s - loss: 1.2053\n",
            "Epoch 20: loss did not improve from 1.20298\n",
            "570/570 [==============================] - 4s 7ms/step - loss: 1.2053\n",
            "Epoch 21/50\n",
            "570/570 [==============================] - ETA: 0s - loss: 1.1963\n",
            "Epoch 21: loss improved from 1.20298 to 1.19630, saving model to weights-improvement-21-1.1963.hdf5\n",
            "570/570 [==============================] - 4s 7ms/step - loss: 1.1963\n",
            "Epoch 22/50\n",
            "569/570 [============================>.] - ETA: 0s - loss: 1.1876\n",
            "Epoch 22: loss improved from 1.19630 to 1.18775, saving model to weights-improvement-22-1.1878.hdf5\n",
            "570/570 [==============================] - 4s 7ms/step - loss: 1.1878\n",
            "Epoch 23/50\n",
            "565/570 [============================>.] - ETA: 0s - loss: 1.1790\n",
            "Epoch 23: loss improved from 1.18775 to 1.17926, saving model to weights-improvement-23-1.1793.hdf5\n",
            "570/570 [==============================] - 4s 7ms/step - loss: 1.1793\n",
            "Epoch 24/50\n",
            "566/570 [============================>.] - ETA: 0s - loss: 1.1719\n",
            "Epoch 24: loss improved from 1.17926 to 1.17190, saving model to weights-improvement-24-1.1719.hdf5\n",
            "570/570 [==============================] - 4s 7ms/step - loss: 1.1719\n",
            "Epoch 25/50\n",
            "563/570 [============================>.] - ETA: 0s - loss: 1.1626\n",
            "Epoch 25: loss improved from 1.17190 to 1.16384, saving model to weights-improvement-25-1.1638.hdf5\n",
            "570/570 [==============================] - 4s 7ms/step - loss: 1.1638\n",
            "Epoch 26/50\n",
            "568/570 [============================>.] - ETA: 0s - loss: 1.1616\n",
            "Epoch 26: loss improved from 1.16384 to 1.16148, saving model to weights-improvement-26-1.1615.hdf5\n",
            "570/570 [==============================] - 4s 7ms/step - loss: 1.1615\n",
            "Epoch 27/50\n",
            "564/570 [============================>.] - ETA: 0s - loss: 1.1566\n",
            "Epoch 27: loss improved from 1.16148 to 1.15699, saving model to weights-improvement-27-1.1570.hdf5\n",
            "570/570 [==============================] - 4s 7ms/step - loss: 1.1570\n",
            "Epoch 28/50\n",
            "568/570 [============================>.] - ETA: 0s - loss: 1.1468\n",
            "Epoch 28: loss improved from 1.15699 to 1.14698, saving model to weights-improvement-28-1.1470.hdf5\n",
            "570/570 [==============================] - 4s 7ms/step - loss: 1.1470\n",
            "Epoch 29/50\n",
            "567/570 [============================>.] - ETA: 0s - loss: 1.1418\n",
            "Epoch 29: loss improved from 1.14698 to 1.14208, saving model to weights-improvement-29-1.1421.hdf5\n",
            "570/570 [==============================] - 4s 7ms/step - loss: 1.1421\n",
            "Epoch 30/50\n",
            "566/570 [============================>.] - ETA: 0s - loss: 1.1389\n",
            "Epoch 30: loss improved from 1.14208 to 1.13932, saving model to weights-improvement-30-1.1393.hdf5\n",
            "570/570 [==============================] - 4s 7ms/step - loss: 1.1393\n",
            "Epoch 31/50\n",
            "569/570 [============================>.] - ETA: 0s - loss: 1.1350\n",
            "Epoch 31: loss improved from 1.13932 to 1.13515, saving model to weights-improvement-31-1.1351.hdf5\n",
            "570/570 [==============================] - 4s 7ms/step - loss: 1.1351\n",
            "Epoch 32/50\n",
            "568/570 [============================>.] - ETA: 0s - loss: 1.1286\n",
            "Epoch 32: loss improved from 1.13515 to 1.12848, saving model to weights-improvement-32-1.1285.hdf5\n",
            "570/570 [==============================] - 4s 7ms/step - loss: 1.1285\n",
            "Epoch 33/50\n",
            "568/570 [============================>.] - ETA: 0s - loss: 1.1240\n",
            "Epoch 33: loss improved from 1.12848 to 1.12384, saving model to weights-improvement-33-1.1238.hdf5\n",
            "570/570 [==============================] - 4s 7ms/step - loss: 1.1238\n",
            "Epoch 34/50\n",
            "568/570 [============================>.] - ETA: 0s - loss: 1.1225\n",
            "Epoch 34: loss improved from 1.12384 to 1.12284, saving model to weights-improvement-34-1.1228.hdf5\n",
            "570/570 [==============================] - 4s 7ms/step - loss: 1.1228\n",
            "Epoch 35/50\n",
            "567/570 [============================>.] - ETA: 0s - loss: 1.1187\n",
            "Epoch 35: loss improved from 1.12284 to 1.11917, saving model to weights-improvement-35-1.1192.hdf5\n",
            "570/570 [==============================] - 4s 7ms/step - loss: 1.1192\n",
            "Epoch 36/50\n",
            "565/570 [============================>.] - ETA: 0s - loss: 1.1145\n",
            "Epoch 36: loss improved from 1.11917 to 1.11430, saving model to weights-improvement-36-1.1143.hdf5\n",
            "570/570 [==============================] - 4s 7ms/step - loss: 1.1143\n",
            "Epoch 37/50\n",
            "570/570 [==============================] - ETA: 0s - loss: 1.1119\n",
            "Epoch 37: loss improved from 1.11430 to 1.11190, saving model to weights-improvement-37-1.1119.hdf5\n",
            "570/570 [==============================] - 4s 7ms/step - loss: 1.1119\n",
            "Epoch 38/50\n",
            "568/570 [============================>.] - ETA: 0s - loss: 1.1084\n",
            "Epoch 38: loss improved from 1.11190 to 1.10832, saving model to weights-improvement-38-1.1083.hdf5\n",
            "570/570 [==============================] - 4s 7ms/step - loss: 1.1083\n",
            "Epoch 39/50\n",
            "564/570 [============================>.] - ETA: 0s - loss: 1.1054\n",
            "Epoch 39: loss improved from 1.10832 to 1.10557, saving model to weights-improvement-39-1.1056.hdf5\n",
            "570/570 [==============================] - 4s 7ms/step - loss: 1.1056\n",
            "Epoch 40/50\n",
            "569/570 [============================>.] - ETA: 0s - loss: 1.1020\n",
            "Epoch 40: loss improved from 1.10557 to 1.10207, saving model to weights-improvement-40-1.1021.hdf5\n",
            "570/570 [==============================] - 4s 7ms/step - loss: 1.1021\n",
            "Epoch 41/50\n",
            "567/570 [============================>.] - ETA: 0s - loss: 1.0951\n",
            "Epoch 41: loss improved from 1.10207 to 1.09533, saving model to weights-improvement-41-1.0953.hdf5\n",
            "570/570 [==============================] - 4s 7ms/step - loss: 1.0953\n",
            "Epoch 42/50\n",
            "568/570 [============================>.] - ETA: 0s - loss: 1.0911\n",
            "Epoch 42: loss improved from 1.09533 to 1.09070, saving model to weights-improvement-42-1.0907.hdf5\n",
            "570/570 [==============================] - 4s 7ms/step - loss: 1.0907\n",
            "Epoch 43/50\n",
            "570/570 [==============================] - ETA: 0s - loss: 1.0865\n",
            "Epoch 43: loss improved from 1.09070 to 1.08650, saving model to weights-improvement-43-1.0865.hdf5\n",
            "570/570 [==============================] - 4s 7ms/step - loss: 1.0865\n",
            "Epoch 44/50\n",
            "564/570 [============================>.] - ETA: 0s - loss: 1.0815\n",
            "Epoch 44: loss improved from 1.08650 to 1.08260, saving model to weights-improvement-44-1.0826.hdf5\n",
            "570/570 [==============================] - 4s 7ms/step - loss: 1.0826\n",
            "Epoch 45/50\n",
            "565/570 [============================>.] - ETA: 0s - loss: 1.0773\n",
            "Epoch 45: loss improved from 1.08260 to 1.07792, saving model to weights-improvement-45-1.0779.hdf5\n",
            "570/570 [==============================] - 4s 7ms/step - loss: 1.0779\n",
            "Epoch 46/50\n",
            "568/570 [============================>.] - ETA: 0s - loss: 1.0730\n",
            "Epoch 46: loss improved from 1.07792 to 1.07322, saving model to weights-improvement-46-1.0732.hdf5\n",
            "570/570 [==============================] - 4s 7ms/step - loss: 1.0732\n",
            "Epoch 47/50\n",
            "567/570 [============================>.] - ETA: 0s - loss: 1.0740\n",
            "Epoch 47: loss did not improve from 1.07322\n",
            "570/570 [==============================] - 4s 7ms/step - loss: 1.0738\n",
            "Epoch 48/50\n",
            "568/570 [============================>.] - ETA: 0s - loss: 1.0694\n",
            "Epoch 48: loss improved from 1.07322 to 1.06958, saving model to weights-improvement-48-1.0696.hdf5\n",
            "570/570 [==============================] - 4s 7ms/step - loss: 1.0696\n",
            "Epoch 49/50\n",
            "566/570 [============================>.] - ETA: 0s - loss: 1.0660\n",
            "Epoch 49: loss improved from 1.06958 to 1.06612, saving model to weights-improvement-49-1.0661.hdf5\n",
            "570/570 [==============================] - 4s 7ms/step - loss: 1.0661\n",
            "Epoch 50/50\n",
            "567/570 [============================>.] - ETA: 0s - loss: 1.0637\n",
            "Epoch 50: loss improved from 1.06612 to 1.06322, saving model to weights-improvement-50-1.0632.hdf5\n",
            "570/570 [==============================] - 4s 7ms/step - loss: 1.0632\n"
          ]
        }
      ]
    },
    {
      "cell_type": "code",
      "source": [
        "model.save_weights(\"model.h5\")"
      ],
      "metadata": {
        "id": "Wtbxv7e9vsPv"
      },
      "execution_count": 14,
      "outputs": []
    },
    {
      "cell_type": "code",
      "source": [
        "loss = history.history['loss']\n",
        "epochs = range(1,len(loss) +1)\n",
        "plt.plot(epochs,loss,'y',label='Training Loss')\n",
        "plt.title('Training Loss')\n",
        "plt.xlabel('Epochs')\n",
        "plt.ylabel('Loss')\n",
        "plt.legend()\n",
        "plt.show()"
      ],
      "metadata": {
        "colab": {
          "base_uri": "https://localhost:8080/",
          "height": 472
        },
        "id": "LUin4SEhyrRb",
        "outputId": "30972634-e77c-44b3-906d-55f6fd85b815"
      },
      "execution_count": 15,
      "outputs": [
        {
          "output_type": "display_data",
          "data": {
            "text/plain": [
              "<Figure size 640x480 with 1 Axes>"
            ],
            "image/png": "[encoded data removed]"
          },
          "metadata": {}
        }
      ]
    },
    {
      "cell_type": "code",
      "source": [
        "def sample(preds):\n",
        "  preds = np.array(preds).astype('float64')\n",
        "  preds = np.log(preds)\n",
        "  exp_preds = np.exp(preds)\n",
        "  preds = exp_preds / np.sum(exp_preds)\n",
        "  probas = np.random.multinomial(1,preds,1)\n",
        "  return np.argmax(probas)"
      ],
      "metadata": {
        "id": "VdmThXovzfeA"
      },
      "execution_count": 16,
      "outputs": []
    },
    {
      "cell_type": "code",
      "source": [
        "filename = \"/content/model.h5\"\n",
        "model.load_weights(filename)\n",
        "start_index = np.random.randint(0,len(raw_text) - seq_length -1)\n",
        "generated = ''\n",
        "sentence = raw_text[start_index:start_index + seq_length]\n",
        "generated += sentence\n",
        "print('Generating with seed: \"' + sentence + '\"')\n",
        "sys.stdout.write(generated)"
      ],
      "metadata": {
        "colab": {
          "base_uri": "https://localhost:8080/"
        },
        "id": "uFQcld4F2yLF",
        "outputId": "36ab6db2-34cc-4b54-a8c5-2f53dc89acb7"
      },
      "execution_count": 17,
      "outputs": [
        {
          "output_type": "stream",
          "name": "stdout",
          "text": [
            "Generating with seed: \"m ,   a n d   c o n t i n u e   h i s   s o n g   a b o u t   t h e   d e a t h \"\n",
            "m ,   a n d   c o n t i n u e   h i s   s o n g   a b o u t   t h e   d e a t h "
          ]
        }
      ]
    },
    {
      "cell_type": "code",
      "source": [
        "for i in range(400):\n",
        "  x_pred = np.zeros((1,seq_length,v_vocab))\n",
        "  for t,char in enumerate(sentence):\n",
        "    x_pred[0,t,char_to_int[char]] = 1\n",
        "  preds = model.predict(x_pred,verbose=0)[0]\n",
        "  next_index = sample(preds)\n",
        "  next_char = int_to_char[next_index]\n",
        "  generated += next_char\n",
        "  sentence = sentence[1:] + next_char\n",
        "  sys.stdout.write(next_char)\n",
        "  sys.stdout.flush()\n",
        "print()"
      ],
      "metadata": {
        "colab": {
          "base_uri": "https://localhost:8080/"
        },
        "id": "22Z2mkXP3Wz7",
        "outputId": "13a59201-fb66-4789-d01a-26314b61ac7e"
      },
      "execution_count": 18,
      "outputs": [
        {
          "output_type": "stream",
          "name": "stdout",
          "text": [
            ".bbySl,aWryTsmbbdbbSbulbwbaivdaI’vSe.ngbblbomB bybukkkpnbbbkbuAbppIeB!kIakIkI’vvleb!dI- hkbiem“ppefbwblIeTsTybevbybyb’voeMonbyb oLuReetmIvvbevkhbyhhbfafokybbouub“wybbie“”PdbblyfgLrTafkySsbperTabvkaeaI  pperoupStukIevbibueabnbuandvluaI!n  aSnbahIahBuondI’vIlIeI hmaTseTdbbubtwfbbrBTvboaaeT-au“cIeIvytm“okI ftfwhfiwbyPe“ouKKhwair“dI dvbyf!bvbiIeM bdorvbiIevvkiibbbeendbulIaftvlibvbakbtkbbyM iabtBiybbu“\n"
          ]
        }
      ]
    },
    {
      "cell_type": "code",
      "source": [],
      "metadata": {
        "id": "fUceqOkB38GE"
      },
      "execution_count": null,
      "outputs": []
    }
  ]
}